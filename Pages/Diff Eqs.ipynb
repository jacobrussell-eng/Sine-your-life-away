{
 "cells": [
  {
   "cell_type": "markdown",
   "id": "judicial-comparison",
   "metadata": {},
   "source": [
    "# Calculus"
   ]
  },
  {
   "cell_type": "code",
   "execution_count": 16,
   "id": "smoking-cosmetic",
   "metadata": {},
   "outputs": [],
   "source": [
    "from sympy import *\n",
    "x = Symbol('x')\n",
    "f = Function('f')"
   ]
  },
  {
   "cell_type": "markdown",
   "id": "powerful-granny",
   "metadata": {},
   "source": [
    "### Derivatives"
   ]
  },
  {
   "cell_type": "markdown",
   "id": "sitting-batman",
   "metadata": {},
   "source": [
    "##### Un-evaluated derivatives"
   ]
  },
  {
   "cell_type": "code",
   "execution_count": 21,
   "id": "mineral-atmosphere",
   "metadata": {},
   "outputs": [
    {
     "name": "stdout",
     "output_type": "stream",
     "text": [
      "Function to integrate: sin(x)\n"
     ]
    },
    {
     "data": {
      "text/latex": [
       "$\\displaystyle \\frac{d}{d x} \\sin{\\left(x \\right)} = \\cos{\\left(x \\right)}$"
      ],
      "text/plain": [
       "Eq(Derivative(sin(x), x), cos(x))"
      ]
     },
     "metadata": {},
     "output_type": "display_data"
    }
   ],
   "source": [
    "deriv = sympify(input(\"Function to diffrentiate: \"))\n",
    "result = diff(deriv, x)\n",
    "display(Eq(Derivative(deriv, x), result))"
   ]
  },
  {
   "cell_type": "markdown",
   "id": "hidden-retailer",
   "metadata": {},
   "source": [
    "##### Evaluated derivatives"
   ]
  },
  {
   "cell_type": "code",
   "execution_count": 35,
   "id": "moved-emphasis",
   "metadata": {},
   "outputs": [
    {
     "name": "stdout",
     "output_type": "stream",
     "text": [
      "Function to diffrentiate: cos(x)\n",
      "Value to evaluate at: pi\n"
     ]
    },
    {
     "data": {
      "text/latex": [
       "$\\displaystyle \\frac{d}{d x} \\left. \\cos{\\left(x \\right)} \\right|_{\\substack{ x=\\pi }} = 0$"
      ],
      "text/plain": [
       "Eq(Derivative(Subs(cos(x), x, pi), x), 0)"
      ]
     },
     "metadata": {},
     "output_type": "display_data"
    }
   ],
   "source": [
    "deriv = sympify(input(\"Function to diffrentiate: \"))\n",
    "value = sympify(input(\"Value to evaluate at: \"))\n",
    "result = diff(deriv, x)\n",
    "display(Eq(Derivative(Subs(deriv, x, value), x), result.subs(x, value)))"
   ]
  },
  {
   "cell_type": "markdown",
   "id": "written-proxy",
   "metadata": {},
   "source": [
    "### Integrals"
   ]
  },
  {
   "cell_type": "markdown",
   "id": "perceived-irrigation",
   "metadata": {},
   "source": [
    "##### Indefinite integrals"
   ]
  },
  {
   "cell_type": "code",
   "execution_count": 20,
   "id": "burning-serve",
   "metadata": {},
   "outputs": [
    {
     "name": "stdout",
     "output_type": "stream",
     "text": [
      "Function to integrate: sin(x)\n"
     ]
    },
    {
     "data": {
      "text/latex": [
       "$\\displaystyle \\int \\sin{\\left(x \\right)}\\, dx = - \\cos{\\left(x \\right)}$"
      ],
      "text/plain": [
       "Eq(Integral(sin(x), x), -cos(x))"
      ]
     },
     "metadata": {},
     "output_type": "display_data"
    }
   ],
   "source": [
    "integ = sympify(input(\"Function to integrate: \"))\n",
    "result = integrate(integ, x)\n",
    "display(Eq(Integral(integ, x), result))"
   ]
  },
  {
   "cell_type": "markdown",
   "id": "covered-battle",
   "metadata": {},
   "source": [
    "##### Definite integrals"
   ]
  },
  {
   "cell_type": "code",
   "execution_count": 45,
   "id": "pending-springfield",
   "metadata": {},
   "outputs": [
    {
     "name": "stdout",
     "output_type": "stream",
     "text": [
      "Function to integrate: exp(x)\n",
      "Lower limit: 0\n",
      "Upper limit: 1\n"
     ]
    },
    {
     "data": {
      "text/latex": [
       "$\\displaystyle \\int\\limits_{0}^{1} e^{x}\\, dx = -1 + e$"
      ],
      "text/plain": [
       "Eq(Integral(exp(x), (x, 0, 1)), -1 + E)"
      ]
     },
     "metadata": {},
     "output_type": "display_data"
    }
   ],
   "source": [
    "integ = sympify(input(\"Function to integrate: \"))\n",
    "low_lim =  sympify(input(\"Lower limit: \"))\n",
    "Upp_lim =  sympify(input(\"Upper limit: \"))\n",
    "result = integrate(integ, x)\n",
    "display(Eq(Integral(integ, (x, low_lim, Upp_lim)), integrate(integ, (x, low_lim, Upp_lim))))"
   ]
  },
  {
   "cell_type": "markdown",
   "id": "promotional-homeless",
   "metadata": {},
   "source": [
    "### Differential equations"
   ]
  },
  {
   "cell_type": "markdown",
   "id": "quality-plenty",
   "metadata": {},
   "source": [
    "##### Linear first order"
   ]
  },
  {
   "cell_type": "code",
   "execution_count": 8,
   "id": "common-number",
   "metadata": {},
   "outputs": [
    {
     "name": "stdout",
     "output_type": "stream",
     "text": [
      "Coefficiant of f': 1\n",
      "Coefficiant of f: 2\n",
      "Right hand side: sin(x)\n"
     ]
    },
    {
     "data": {
      "text/latex": [
       "$\\displaystyle 2 f{\\left(x \\right)} + \\frac{d}{d x} f{\\left(x \\right)} = \\sin{\\left(x \\right)}$"
      ],
      "text/plain": [
       "Eq(2*f(x) + Derivative(f(x), x), sin(x))"
      ]
     },
     "metadata": {},
     "output_type": "display_data"
    },
    {
     "data": {
      "text/latex": [
       "$\\displaystyle f{\\left(x \\right)} = \\left(C_{1} + \\frac{2 e^{2 x} \\sin{\\left(x \\right)}}{5} - \\frac{e^{2 x} \\cos{\\left(x \\right)}}{5}\\right) e^{- 2 x}$"
      ],
      "text/plain": [
       "Eq(f(x), (C1 + 2*exp(2*x)*sin(x)/5 - exp(2*x)*cos(x)/5)*exp(-2*x))"
      ]
     },
     "metadata": {},
     "output_type": "display_data"
    }
   ],
   "source": [
    "f_prime = sympify(input(\"Coefficiant of f': \"))\n",
    "f_coef = sympify(input(\"Coefficiant of f: \"))\n",
    "RHS = sympify(input(\"Right hand side: \"))\n",
    "\n",
    "diffeq = Eq(f_prime*f(x).diff(x) + f_coef*f(x), RHS)\n",
    "display(diffeq)\n",
    "display(dsolve(diffeq, f(x)))"
   ]
  },
  {
   "cell_type": "markdown",
   "id": "taken-worthy",
   "metadata": {},
   "source": [
    "##### Linear second order"
   ]
  },
  {
   "cell_type": "code",
   "execution_count": 7,
   "id": "crazy-announcement",
   "metadata": {},
   "outputs": [
    {
     "name": "stdout",
     "output_type": "stream",
     "text": [
      "Coefficiant of f'': 1\n",
      "Coefficiant of f': 2\n",
      "Coefficiant of f: 3\n",
      "Right hand side: 4\n"
     ]
    },
    {
     "data": {
      "text/latex": [
       "$\\displaystyle 3 f{\\left(x \\right)} + 2 \\frac{d}{d x} f{\\left(x \\right)} + \\frac{d^{2}}{d x^{2}} f{\\left(x \\right)} = 4$"
      ],
      "text/plain": [
       "Eq(3*f(x) + 2*Derivative(f(x), x) + Derivative(f(x), (x, 2)), 4)"
      ]
     },
     "metadata": {},
     "output_type": "display_data"
    },
    {
     "data": {
      "text/latex": [
       "$\\displaystyle f{\\left(x \\right)} = \\left(C_{1} \\sin{\\left(\\sqrt{2} x \\right)} + C_{2} \\cos{\\left(\\sqrt{2} x \\right)}\\right) e^{- x} + \\frac{4}{3}$"
      ],
      "text/plain": [
       "Eq(f(x), (C1*sin(sqrt(2)*x) + C2*cos(sqrt(2)*x))*exp(-x) + 4/3)"
      ]
     },
     "metadata": {},
     "output_type": "display_data"
    }
   ],
   "source": [
    "f_2prime = sympify(input(\"Coefficiant of f'': \"))\n",
    "f_prime = sympify(input(\"Coefficiant of f': \"))\n",
    "f_coef = sympify(input(\"Coefficiant of f: \"))\n",
    "RHS = sympify(input(\"Right hand side: \"))\n",
    "\n",
    "diffeq = Eq(f_2prime*f(x).diff(x, x) + f_prime*f(x).diff(x) + f_coef*f(x), RHS)\n",
    "display(diffeq)\n",
    "display(dsolve(diffeq, f(x)))"
   ]
  },
  {
   "cell_type": "code",
   "execution_count": null,
   "id": "interim-safety",
   "metadata": {},
   "outputs": [],
   "source": []
  }
 ],
 "metadata": {
  "kernelspec": {
   "display_name": "Python [conda env:root] *",
   "language": "python",
   "name": "conda-root-py"
  },
  "language_info": {
   "codemirror_mode": {
    "name": "ipython",
    "version": 3
   },
   "file_extension": ".py",
   "mimetype": "text/x-python",
   "name": "python",
   "nbconvert_exporter": "python",
   "pygments_lexer": "ipython3",
   "version": "3.7.9"
  }
 },
 "nbformat": 4,
 "nbformat_minor": 5
}
